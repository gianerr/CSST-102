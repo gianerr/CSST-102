{
  "nbformat": 4,
  "nbformat_minor": 0,
  "metadata": {
    "colab": {
      "provenance": [],
      "authorship_tag": "ABX9TyOVj6Bp1/dMiQ6BLe0HRq0I",
      "include_colab_link": true
    },
    "kernelspec": {
      "name": "python3",
      "display_name": "Python 3"
    },
    "language_info": {
      "name": "python"
    }
  },
  "cells": [
    {
      "cell_type": "markdown",
      "metadata": {
        "id": "view-in-github",
        "colab_type": "text"
      },
      "source": [
        "<a href=\"https://colab.research.google.com/github/gianerr/CSST-102/blob/main/3B_PLATA_EXER1_.ipynb\" target=\"_parent\"><img src=\"https://colab.research.google.com/assets/colab-badge.svg\" alt=\"Open In Colab\"/></a>"
      ]
    },
    {
      "cell_type": "markdown",
      "source": [
        "# 1. Data Preprocessing"
      ],
      "metadata": {
        "id": "hWbpbbP8eB39"
      }
    },
    {
      "cell_type": "code",
      "source": [
        "import pandas as pd\n",
        "import numpy as np"
      ],
      "metadata": {
        "id": "5QcvPLIrd4cD"
      },
      "execution_count": 37,
      "outputs": []
    },
    {
      "cell_type": "code",
      "execution_count": 38,
      "metadata": {
        "id": "vH-X0seZY5K-"
      },
      "outputs": [],
      "source": [
        "data = pd.read_csv('datasets_house_prices.csv')"
      ]
    },
    {
      "cell_type": "code",
      "source": [
        "dhead = data.head()\n",
        "print(dhead)"
      ],
      "metadata": {
        "colab": {
          "base_uri": "https://localhost:8080/"
        },
        "id": "eMuy6xz1dff_",
        "outputId": "a7ec615d-ed1d-4be4-fb67-e79b6365f66a"
      },
      "execution_count": 39,
      "outputs": [
        {
          "output_type": "stream",
          "name": "stdout",
          "text": [
            "   Size (sqft)  Bedrooms  Age  Proximity to Downtown (miles)         Price\n",
            "0         3974         1   97                       2.032719  1.162771e+06\n",
            "1         1660         5   88                      23.695207  4.900021e+05\n",
            "2         2094         4   49                       6.440232  6.400737e+05\n",
            "3         1930         2   28                       8.129315  5.637881e+05\n",
            "4         1895         1   56                       5.358837  5.651289e+05\n"
          ]
        }
      ]
    },
    {
      "cell_type": "code",
      "source": [
        "missing_values = data.isnull().sum()\n",
        "data.fillna(data.mean(), inplace=True)"
      ],
      "metadata": {
        "id": "GoPQu0QBdqV8"
      },
      "execution_count": 40,
      "outputs": []
    },
    {
      "cell_type": "code",
      "source": [
        "from sklearn.preprocessing import MinMaxScaler\n",
        "scaler = MinMaxScaler()\n",
        "data[['Size (sqft)', 'Bedrooms', 'Age', 'Proximity to Downtown (miles)']] = scaler.fit_transform(\n",
        "    data[['Size (sqft)', 'Bedrooms', 'Age', 'Proximity to Downtown (miles)']]\n",
        ")"
      ],
      "metadata": {
        "id": "hkBwXqOndy11"
      },
      "execution_count": 41,
      "outputs": []
    },
    {
      "cell_type": "markdown",
      "source": [
        "# 2. Model Implementation"
      ],
      "metadata": {
        "id": "kj_UY_YreIb_"
      }
    },
    {
      "cell_type": "code",
      "source": [
        "X = data[['Size (sqft)', 'Bedrooms', 'Age', 'Proximity to Downtown (miles)']].values\n",
        "y = data['Price'].values\n",
        "\n",
        "X_b = np.c_[np.ones(X.shape[0]), X]\n",
        "\n",
        "theta_best = np.linalg.inv(X_b.T.dot(X_b)).dot(X_b.T).dot(y)"
      ],
      "metadata": {
        "id": "Kgql2d6kd1Rq"
      },
      "execution_count": 42,
      "outputs": []
    },
    {
      "cell_type": "code",
      "source": [
        "def predict(features):\n",
        "    features_b = np.array([1] + features).reshape(1, -1)\n",
        "    return features_b.dot(theta_best)"
      ],
      "metadata": {
        "id": "L4rIAC5ld_fx"
      },
      "execution_count": 43,
      "outputs": []
    },
    {
      "cell_type": "markdown",
      "source": [
        "# 3. Model Training"
      ],
      "metadata": {
        "id": "-J7jxZ9feOv0"
      }
    },
    {
      "cell_type": "code",
      "source": [
        "from sklearn.model_selection import train_test_split\n",
        "X_train, X_test, y_train, y_test = train_test_split(X, y, test_size=0.2, random_state=42)"
      ],
      "metadata": {
        "id": "wlhB4ZW6eRSx"
      },
      "execution_count": 44,
      "outputs": []
    },
    {
      "cell_type": "code",
      "source": [
        "X_train_b = np.c_[np.ones(X_train.shape[0]), X_train]\n",
        "theta_best_train = np.linalg.inv(X_train_b.T.dot(X_train_b)).dot(X_train_b.T).dot(y_train)"
      ],
      "metadata": {
        "id": "KpTCYSzOeUV7"
      },
      "execution_count": 45,
      "outputs": []
    },
    {
      "cell_type": "code",
      "source": [
        "y_train_pred = X_train_b.dot(theta_best_train)\n",
        "mse_train = np.mean((y_train - y_train_pred) ** 2)"
      ],
      "metadata": {
        "id": "PqNZMsc_eWvO"
      },
      "execution_count": 46,
      "outputs": []
    },
    {
      "cell_type": "markdown",
      "source": [
        "# 4. Model Evaluation"
      ],
      "metadata": {
        "id": "077K1YROeXwk"
      }
    },
    {
      "cell_type": "code",
      "source": [
        "X_test_b = np.c_[np.ones(X_test.shape[0]), X_test]\n",
        "y_test_pred = X_test_b.dot(theta_best_train)\n",
        "mse_test = np.mean((y_test - y_test_pred) ** 2)"
      ],
      "metadata": {
        "id": "G8noDAJ0eZ8p"
      },
      "execution_count": 47,
      "outputs": []
    },
    {
      "cell_type": "code",
      "source": [
        "import matplotlib.pyplot as plt\n",
        "\n",
        "plt.scatter(y_test, y_test_pred)\n",
        "plt.xlabel(\"Actual Prices\")\n",
        "plt.ylabel(\"Predicted Prices\")\n",
        "plt.title(\"Actual vs Predicted Prices\")\n",
        "plt.plot([min(y_test), max(y_test)], [min(y_test), max(y_test)], color='yellow')\n",
        "plt.show()"
      ],
      "metadata": {
        "colab": {
          "base_uri": "https://localhost:8080/",
          "height": 472
        },
        "id": "gkfEOcGJedXC",
        "outputId": "5fea98ac-2ae8-4706-d188-093ff565f0b7"
      },
      "execution_count": 48,
      "outputs": [
        {
          "output_type": "display_data",
          "data": {
            "text/plain": [
              "<Figure size 640x480 with 1 Axes>"
            ],
            "image/png": "[encoded data removed]"
          },
          "metadata": {}
        }
      ]
    },
    {
      "cell_type": "markdown",
      "source": [
        "# 5. Report"
      ],
      "metadata": {
        "id": "8NSTRmSIlGHE"
      }
    },
    {
      "cell_type": "code",
      "source": [
        "report = \"\"\" This project was able to showcase the entire process of creating\n",
        "a linear regression model, from data preprocessing to evaluation. Key\n",
        "challenges included handling missing data and ensuring proper normalization,\n",
        "which were addressed through systematic approaches. Overall, the results suggest\n",
        "the model works reasonably well.\"\"\"\n",
        "print(report)"
      ],
      "metadata": {
        "colab": {
          "base_uri": "https://localhost:8080/"
        },
        "id": "wFugCUoAlIc_",
        "outputId": "1058ea5d-29b6-4423-a58c-4615b9cede2a"
      },
      "execution_count": 49,
      "outputs": [
        {
          "output_type": "stream",
          "name": "stdout",
          "text": [
            " This project was able to showcase the entire process of creating\n",
            "a linear regression model, from data preprocessing to evaluation. Key \n",
            "challenges included handling missing data and ensuring proper normalization, \n",
            "which were addressed through systematic approaches. Overall, the results suggest \n",
            "the model works reasonably well.\n"
          ]
        }
      ]
    }
  ]
}